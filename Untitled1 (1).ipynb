{
  "nbformat": 4,
  "nbformat_minor": 0,
  "metadata": {
    "colab": {
      "name": "Untitled1.ipynb",
      "provenance": []
    },
    "kernelspec": {
      "name": "python3",
      "display_name": "Python 3"
    }
  },
  "cells": [
    {
      "cell_type": "markdown",
      "metadata": {
        "id": "0FUvhGcJv7Wb",
        "colab_type": "text"
      },
      "source": [
        "1.[Latex symbol](https://www.caam.rice.edu/~heinken/latex/symbols.pdf)<br>\n",
        "2.[Notation and latex guidline](https://colab.research.google.com/drive/1U6-24IyXuwYof2vonZ_5ZNx6ay2JkPxX?authuser=2)<br>\n",
        "3.[Technical writing](https://developers.google.com/tech-writing)<br>\n",
        "4.[Coading Standard](https://colab.research.google.com/drive/1LW0W5IKJ8-p-vVHJbNu1gq0raEprxXKO?authuser=2)<br>\n",
        "5.[best book for linear regression(introduction to the linear regression)](https://www.academia.edu/32079757/Introduction_to_Linear_Regression_Analysis_5th_ed._Douglas_C._Montgomery_Elizabeth_A._Peck_and_G._.pdf)<br>\n",
        "6.[lgradient descent best define method paper](https://arxiv.org/pdf/1609.04747.pdf)<br>\n",
        "7.gif making step.<br>\n",
        "* create images in figma (online tool).\n",
        "* give gif form in gifmaker online tool.\n",
        "\n",
        "\n",
        "\n"
      ]
    },
    {
      "cell_type": "code",
      "metadata": {
        "id": "7YfisSFGvvqk",
        "colab_type": "code",
        "colab": {}
      },
      "source": [
        ""
      ],
      "execution_count": 0,
      "outputs": []
    }
  ]
}