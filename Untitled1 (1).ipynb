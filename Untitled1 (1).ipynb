{
  "nbformat": 4,
  "nbformat_minor": 0,
  "metadata": {
    "colab": {
      "name": "Untitled1.ipynb",
      "provenance": []
    },
    "kernelspec": {
      "name": "python3",
      "display_name": "Python 3"
    }
  },
  "cells": [
    {
      "cell_type": "markdown",
      "metadata": {
        "id": "0FUvhGcJv7Wb",
        "colab_type": "text"
      },
      "source": [
        "[Latex symbol](https://www.caam.rice.edu/~heinken/latex/symbols.pdf)<br>\n",
        "[Notation and latex guidline](https://colab.research.google.com/drive/1U6-24IyXuwYof2vonZ_5ZNx6ay2JkPxX?authuser=2)<br>\n",
        "[Technical writing](https://developers.google.com/tech-writing)<br>\n",
        "[Coading Standard](https://colab.research.google.com/drive/1LW0W5IKJ8-p-vVHJbNu1gq0raEprxXKO?authuser=2)<br>\n",
        "\n",
        "\n"
      ]
    },
    {
      "cell_type": "code",
      "metadata": {
        "id": "7YfisSFGvvqk",
        "colab_type": "code",
        "colab": {}
      },
      "source": [
        ""
      ],
      "execution_count": 0,
      "outputs": []
    }
  ]
}